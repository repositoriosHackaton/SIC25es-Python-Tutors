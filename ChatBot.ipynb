{
  "cells": [
    {
      "cell_type": "code",
      "execution_count": null,
      "metadata": {
        "id": "PI9oW6OCThm-"
      },
      "outputs": [],
      "source": [
        "!pip install spacy\n",
        "!python -m spacy download es_core_news_sm"
      ]
    },
    {
      "cell_type": "code",
      "execution_count": null,
      "metadata": {
        "id": "vQhzBH5xe4XP"
      },
      "outputs": [],
      "source": [
        "!git clone https://github.com/MadisonAcosta/PyTutor.git\n"
      ]
    },
    {
      "cell_type": "code",
      "execution_count": null,
      "metadata": {
        "id": "640B3whpThnE"
      },
      "outputs": [
        {
          "name": "stdout",
          "output_type": "stream",
          "text": [
            "Hola, ¿en qué puedo ayudarte?\n"
          ]
        },
        {
          "name": "stdout",
          "output_type": "stream",
          "text": [
            "Chatbot: Claro, dime tus preferencias.\n",
            "Chatbot: ¿Cuánto es tu presupuesto máximo? (Ingresa un número)\n",
            "Chatbot: ¿Qué marca prefieres? (Escribe una marca específica)\n",
            "Chatbot: ¿Quieres una buena cámara? (Sí/No)\n",
            "Chatbot: ¿Necesitas un celular con buen rendimiento? (Sí/No)\n",
            "Chatbot: No encontré un celular que cumpla con todas tus preferencias. Intenta ajustar algunos criterios.\n",
            "Chatbot: No entendí tu respuesta. Por favor, escribe algo.\n",
            "Chatbot: No entendí tu respuesta. Por favor, escribe algo.\n",
            "Chatbot: Claro, dime tus preferencias.\n",
            "Chatbot: ¿Cuánto es tu presupuesto máximo? (Ingresa un número)\n",
            "Chatbot: No entendí tu respuesta. Por favor, escribe algo.\n",
            "Chatbot: ¿Qué marca prefieres? (Escribe una marca específica)\n",
            "Chatbot: ¿Quieres una buena cámara? (Sí/No)\n",
            "Chatbot: ¿Necesitas un celular con buen rendimiento? (Sí/No)\n",
            "Chatbot: No encontré un celular que cumpla con todas tus preferencias. Intenta ajustar algunos criterios.\n",
            "Chatbot: Lo siento, no entendí tu pregunta. ¿Puedes reformularla?\n",
            "Chatbot: No entendí tu respuesta. Por favor, escribe algo.\n",
            "Chatbot: No entendí tu respuesta. Por favor, escribe algo.\n",
            "Chatbot: ¡Hasta luego!\n"
          ]
        }
      ],
      "source": [
        "import json\n",
        "from collections import deque\n",
        "import random\n",
        "\n",
        "# Cargar intents y evaluaciones para el chat\n",
        "with open(\"intenstss.json\", \"r\", encoding=\"utf-8\") as file:\n",
        "    intents = json.load(file)\n",
        "\n",
        "# Cargar datos de celulares\n",
        "with open(\"celulares_con_benchmarks.json\", \"r\", encoding=\"utf-8\") as file:\n",
        "    celulares = json.load(file)\n",
        "\n",
        "# Memoria del chatbot\n",
        "memoria_chat = deque(maxlen=5)\n",
        "preferencias_usuario = {}\n",
        "inicio_recoleccion = False\n",
        "\n",
        "# Extraer preguntas del flujo desde intents.json\n",
        "preguntas_flujo = intents[\"evaluacionesChat\"][0][\"responses\"]\n",
        "indice_pregunta = 0\n",
        "\n",
        "# Extraer respuestas de saludos\n",
        "saludos_patterns = {pat.lower() for intent in intents[\"intents\"] if intent[\"tag\"] == \"saludo\" for pat in intent[\"patterns\"]}\n",
        "saludos_responses = [resp for intent in intents[\"intents\"] if intent[\"tag\"] == \"saludo\" for resp in intent[\"responses\"]]\n",
        "\n",
        "def recomendar_celular():\n",
        "    celulares_filtrados = celulares\n",
        "    for clave, valor in preferencias_usuario.items():\n",
        "        if clave == \"presupuesto\":\n",
        "            celulares_filtrados = [c for c in celulares_filtrados if c.get(\"Launched Price (USA)\", float(\"inf\")) <= valor]\n",
        "        elif clave == \"camara\":\n",
        "            celulares_filtrados = [c for c in celulares_filtrados if c.get(\"Front Camera (MP)\", 0) >= valor]\n",
        "        elif clave == \"rendimiento\":\n",
        "            celulares_filtrados = [c for c in celulares_filtrados if c.get(\"RAM (GB)\", 0) >= valor]\n",
        "        elif clave == \"bateria\":\n",
        "            celulares_filtrados = [c for c in celulares_filtrados if c.get(\"Battery Capacity (mAh)\", 0) >= valor]\n",
        "        elif clave == \"marca\":\n",
        "            celulares_filtrados = [c for c in celulares_filtrados if valor.lower() in c.get(\"Company Name\", \"\").lower()]\n",
        "\n",
        "    return celulares_filtrados[0] if celulares_filtrados else None\n",
        "\n",
        "respuestas_positivas = {pat.lower() for intent in intents[\"evaluacionesChat\"] if intent[\"tag\"] == \"respuestas_positivas\" for pat in intent[\"responses\"]}\n",
        "variantes_celulares = {pat.lower() for intent in intents[\"evaluacionesChat\"] if intent[\"tag\"] == \"variantes_celulares\" for pat in intent[\"responses\"]}\n",
        "variantes_recomendar = {pat.lower() for intent in intents[\"evaluacionesChat\"] if intent[\"tag\"] == \"variantes_recomendar\" for pat in intent.get(\"variantes\", [])}\n",
        "\n",
        "def chatbot():\n",
        "    global inicio_recoleccion, preferencias_usuario, indice_pregunta\n",
        "    print(\"Hola, ¿en qué puedo ayudarte?\")\n",
        "    while True:\n",
        "        user_input = input(\"Tú: \").strip().lower()\n",
        "\n",
        "        if not user_input:\n",
        "            print(\"Chatbot: No entendí tu respuesta. Por favor, escribe algo.\")\n",
        "            continue\n",
        "\n",
        "        if user_input == \"salir\":\n",
        "            print(\"Chatbot: ¡Hasta luego!\")\n",
        "            break\n",
        "\n",
        "        # Verificar si es un saludo antes de cualquier otra respuesta\n",
        "        if user_input in saludos_patterns:\n",
        "            print(f\"Chatbot: {random.choice(saludos_responses)}\")\n",
        "            continue\n",
        "\n",
        "        if not inicio_recoleccion:\n",
        "            if any(word in user_input.lower() for word in (variantes_recomendar | variantes_celulares | {\"jugar\", \"busco\"})):\n",
        "                print(\"Chatbot: Claro, dime tus preferencias.\")\n",
        "                inicio_recoleccion = True\n",
        "                indice_pregunta = 0\n",
        "                preferencias_usuario.clear()\n",
        "            else:\n",
        "                print(\"Chatbot: Lo siento, no entendí tu pregunta. ¿Puedes reformularla?\")\n",
        "            continue\n",
        "\n",
        "        # Capturar respuestas del usuario y avanzar en el flujo\n",
        "        if indice_pregunta < len(preguntas_flujo):\n",
        "            pregunta_actual = preguntas_flujo[indice_pregunta][\"pregunta\"]\n",
        "\n",
        "            if \"batería\" in pregunta_actual.lower() and user_input.lower() in respuestas_positivas:\n",
        "                preferencias_usuario[\"bateria\"] = 4000\n",
        "            elif \"presupuesto\" in pregunta_actual.lower() and user_input.isdigit():\n",
        "                preferencias_usuario[\"presupuesto\"] = int(user_input)\n",
        "            elif \"marca\" in pregunta_actual.lower():\n",
        "                preferencias_usuario[\"marca\"] = user_input\n",
        "            elif \"cámara\" in pregunta_actual.lower() and user_input.lower() in respuestas_positivas:\n",
        "                preferencias_usuario[\"camara\"] = 12\n",
        "            elif \"rendimiento\" in pregunta_actual.lower() and user_input.lower() in respuestas_positivas:\n",
        "                preferencias_usuario[\"rendimiento\"] = 8\n",
        "\n",
        "\n",
        "            indice_pregunta += 1\n",
        "            if indice_pregunta < len(preguntas_flujo):\n",
        "                print(f\"Chatbot: {preguntas_flujo[indice_pregunta]['pregunta']}\")\n",
        "            else:\n",
        "                celular_recomendado = recomendar_celular()\n",
        "                if celular_recomendado:\n",
        "                    print(f\"Chatbot: Te recomiendo el {celular_recomendado['Model Name']} de {celular_recomendado['Company Name']}.\\n\"\n",
        "                          f\"Precio: ${celular_recomendado.get('Launched Price (USA)', 'Desconocido')}\\n\"\n",
        "                          f\"Batería: {celular_recomendado.get('Battery Capacity (mAh)', 'N/A')} mAh\\n\"\n",
        "                          f\"Cámara Frontal: {celular_recomendado.get('Front Camera (MP)', 'N/A')} MP\\n\"\n",
        "                          f\"RAM: {celular_recomendado.get('RAM (GB)', 'N/A')} GB\\n\"\n",
        "                          f\"Pantalla: {celular_recomendado.get('Screen Size (inches)', 'N/A')} pulgadas\")\n",
        "                else:\n",
        "                    print(\"Chatbot: No encontré un celular que cumpla con todas tus preferencias. Intenta ajustar algunos criterios.\")\n",
        "                inicio_recoleccion = False\n",
        "                indice_pregunta = 0\n",
        "                preferencias_usuario.clear()\n",
        "\n",
        "chatbot()\n"
      ]
    }
  ],
  "metadata": {
    "colab": {
      "provenance": []
    },
    "kernelspec": {
      "display_name": "Python 3",
      "language": "python",
      "name": "python3"
    },
    "language_info": {
      "codemirror_mode": {
        "name": "ipython",
        "version": 3
      },
      "file_extension": ".py",
      "mimetype": "text/x-python",
      "name": "python",
      "nbconvert_exporter": "python",
      "pygments_lexer": "ipython3",
      "version": "3.12.9"
    }
  },
  "nbformat": 4,
  "nbformat_minor": 0
}
